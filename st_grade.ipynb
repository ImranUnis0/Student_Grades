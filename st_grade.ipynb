{
 "cells": [
  {
   "cell_type": "markdown",
   "metadata": {},
   "source": [
    "# Polynomial Regression\n",
    "\n",
    "Author: Imran Younus\n",
    "\n",
    "Email: izawad19@hhotmail.com\n",
    "\n",
    "LinkedIn: https://www.linkedin.com/in/imran-younus-031283111/\n"
   ]
  },
  {
   "cell_type": "code",
   "execution_count": 16,
   "metadata": {},
   "outputs": [
    {
     "name": "stdout",
     "output_type": "stream",
     "text": [
      "   Student_ID  Age  Study_Hours  Prev_Grades  Final_Grade\n",
      "0           1   15          8.0         60.0         65.0\n",
      "1           2   16          9.5         64.5         73.5\n",
      "2           3   17         11.0         69.0         72.0\n",
      "3           4   18         12.5         73.5         80.5\n",
      "4           5   15         14.0         78.0         79.0\n"
     ]
    }
   ],
   "source": [
    "# important libraries\n",
    "\n",
    "import numpy as np\n",
    "import matplotlib.pyplot as plt\n",
    "import pandas as pd\n",
    "\n",
    "\n",
    "\n",
    "# Others\n",
    "from sklearn.linear_model import LinearRegression\n",
    "from sklearn.preprocessing import PolynomialFeatures\n",
    "from sklearn.model_selection import train_test_split\n",
    "\n",
    "\n",
    "# Load Dataset\n",
    "\n",
    "df = pd.read_csv(\"Student_Grades_Dataset.csv\")\n",
    "print(df.head())"
   ]
  },
  {
   "cell_type": "markdown",
   "metadata": {},
   "source": [
    "# 1 Inspect the Dataset"
   ]
  },
  {
   "cell_type": "code",
   "execution_count": null,
   "metadata": {},
   "outputs": [],
   "source": [
    "print(df.head())\n",
    "print(df.tail())"
   ]
  },
  {
   "cell_type": "markdown",
   "metadata": {},
   "source": [
    "# 2 Understand the structure of dataset"
   ]
  },
  {
   "cell_type": "code",
   "execution_count": null,
   "metadata": {},
   "outputs": [],
   "source": [
    "print(df.info())  # Column types, non-null values, and structure d\n",
    "print(df.describe())  # ssummary statistics of Numerical columns"
   ]
  },
  {
   "cell_type": "markdown",
   "metadata": {},
   "source": [
    "# 3 Names of columns and rows"
   ]
  },
  {
   "cell_type": "code",
   "execution_count": 9,
   "metadata": {},
   "outputs": [
    {
     "name": "stdout",
     "output_type": "stream",
     "text": [
      "(50, 5)\n"
     ]
    }
   ],
   "source": [
    "#print(df.columns)\n",
    "print(df.shape)"
   ]
  },
  {
   "cell_type": "markdown",
   "metadata": {},
   "source": [
    "# 4 Missing values"
   ]
  },
  {
   "cell_type": "code",
   "execution_count": 10,
   "metadata": {},
   "outputs": [
    {
     "name": "stdout",
     "output_type": "stream",
     "text": [
      "Student_ID     0\n",
      "Age            0\n",
      "Study_Hours    0\n",
      "Prev_Grades    0\n",
      "Final_Grade    0\n",
      "dtype: int64\n"
     ]
    }
   ],
   "source": [
    "print(df.isnull().sum())"
   ]
  },
  {
   "cell_type": "markdown",
   "metadata": {},
   "source": [
    "# 5 Unique values and duplicates"
   ]
  },
  {
   "cell_type": "code",
   "execution_count": 11,
   "metadata": {},
   "outputs": [
    {
     "name": "stdout",
     "output_type": "stream",
     "text": [
      "0\n"
     ]
    }
   ],
   "source": [
    "#print(df.nunique())\n",
    "print(df.duplicated().sum())"
   ]
  },
  {
   "cell_type": "markdown",
   "metadata": {},
   "source": [
    "# 6 Specific columns or rows"
   ]
  },
  {
   "cell_type": "code",
   "execution_count": 12,
   "metadata": {},
   "outputs": [
    {
     "name": "stdout",
     "output_type": "stream",
     "text": [
      "0    15\n",
      "1    16\n",
      "2    17\n",
      "3    18\n",
      "4    15\n",
      "Name: Age, dtype: int64\n",
      "Student_ID      1.0\n",
      "Age            15.0\n",
      "Study_Hours     8.0\n",
      "Prev_Grades    60.0\n",
      "Final_Grade    65.0\n",
      "Name: 0, dtype: float64\n"
     ]
    }
   ],
   "source": [
    "print(df['Age'].head()) # see the specific column\n",
    "print(df.iloc[0]) # Acces the first row data"
   ]
  },
  {
   "cell_type": "markdown",
   "metadata": {},
   "source": [
    "# 7 Define Independent and Dependent Variables"
   ]
  },
  {
   "cell_type": "code",
   "execution_count": 13,
   "metadata": {},
   "outputs": [
    {
     "name": "stdout",
     "output_type": "stream",
     "text": [
      "   Age  Study_Hours  Prev_Grades\n",
      "0   15          8.0         60.0\n",
      "1   16          9.5         64.5\n",
      "2   17         11.0         69.0\n",
      "3   18         12.5         73.5\n",
      "4   15         14.0         78.0\n",
      "0    65.0\n",
      "1    73.5\n",
      "2    72.0\n",
      "3    80.5\n",
      "4    79.0\n",
      "Name: Final_Grade, dtype: float64\n"
     ]
    }
   ],
   "source": [
    "# Independent variables (X)\n",
    "X = df[[\"Age\", \"Study_Hours\", \"Prev_Grades\"]]  # Input columns\n",
    "\n",
    "# Dependent variable (y)\n",
    "y = df[\"Final_Grade\"]  # Output column\n",
    "\n",
    "print(X.head())\n",
    "print(y.head())"
   ]
  },
  {
   "cell_type": "markdown",
   "metadata": {},
   "source": [
    "# 8A Automatic Selection of Input and Output Columns"
   ]
  },
  {
   "cell_type": "code",
   "execution_count": 15,
   "metadata": {},
   "outputs": [
    {
     "name": "stdout",
     "output_type": "stream",
     "text": [
      "   Student_ID  Age  Study_Hours  Prev_Grades\n",
      "0           1   15          8.0         60.0\n",
      "1           2   16          9.5         64.5\n",
      "2           3   17         11.0         69.0\n",
      "3           4   18         12.5         73.5\n",
      "4           5   15         14.0         78.0\n"
     ]
    }
   ],
   "source": [
    "# All columns except the last one as inputs (X)\n",
    "X = df.iloc[:, :-1]\n",
    "print(X.head())\n",
    "\n"
   ]
  },
  {
   "cell_type": "markdown",
   "metadata": {},
   "source": [
    "# 8B"
   ]
  },
  {
   "cell_type": "code",
   "execution_count": 17,
   "metadata": {},
   "outputs": [
    {
     "name": "stdout",
     "output_type": "stream",
     "text": [
      "0    65.0\n",
      "1    73.5\n",
      "2    72.0\n",
      "3    80.5\n",
      "4    79.0\n",
      "Name: Final_Grade, dtype: float64\n"
     ]
    }
   ],
   "source": [
    "# Last column as output (y)\n",
    "y = df.iloc[:, -1]\n",
    "print(y.head())"
   ]
  },
  {
   "cell_type": "markdown",
   "metadata": {},
   "source": [
    "# 9 Visualization Data\n",
    "\n",
    "Study Hours and Final Grade of relation  is linear or non-linear? "
   ]
  },
  {
   "cell_type": "code",
   "execution_count": 18,
   "metadata": {},
   "outputs": [
    {
     "data": {
      "image/png": "[encoded data removed]",
      "text/plain": [
       "<Figure size 400x200 with 1 Axes>"
      ]
     },
     "metadata": {},
     "output_type": "display_data"
    }
   ],
   "source": [
    "\n",
    "\n",
    "\n",
    "# Scatter plot: Study Hours vs Final Grade\n",
    "plt.figure(figsize=(4, 2))\n",
    "plt.scatter(df['Study_Hours'],df['Final_Grade'])\n",
    "plt.title('Study Hours vs Final_Grade')\n",
    "plt.xlabel('Study Hours')\n",
    "plt.ylabel('Final_Grade')\n",
    "plt.show()"
   ]
  },
  {
   "cell_type": "code",
   "execution_count": 19,
   "metadata": {},
   "outputs": [
    {
     "data": {
      "image/png": "[encoded data removed]",
      "text/plain": [
       "<Figure size 400x200 with 1 Axes>"
      ]
     },
     "metadata": {},
     "output_type": "display_data"
    }
   ],
   "source": [
    "import seaborn as sns\n",
    "# Regression plot between Study Hours and Final Grade\n",
    "plt.figure(figsize=(4, 2))\n",
    "sns.regplot(x='Study_Hours', y='Final_Grade', data=df)\n",
    "plt.title('Regression: Study Hours vs Final Grade')\n",
    "plt.show()"
   ]
  },
  {
   "cell_type": "markdown",
   "metadata": {},
   "source": [
    "# 10 Model Traning"
   ]
  },
  {
   "cell_type": "code",
   "execution_count": 20,
   "metadata": {},
   "outputs": [
    {
     "name": "stdout",
     "output_type": "stream",
     "text": [
      "Training Data Indices: Int64Index([48, 26, 25, 32, 19, 12,  4, 37,  8,  3,  6, 41, 46, 47, 15,  9, 16,\n",
      "            24, 34, 31,  0, 44, 27, 33,  5, 29, 11, 36,  1, 21,  2, 43, 35, 23,\n",
      "            40, 10, 22, 18, 49, 20,  7, 42, 14, 28, 38],\n",
      "           dtype='int64')\n",
      "Testing Data Indices: Int64Index([13, 39, 30, 45, 17], dtype='int64')\n"
     ]
    }
   ],
   "source": [
    "# Train-Test Split\n",
    "\n",
    "X_train, X_test, y_train, y_test = train_test_split(X,y,test_size=0.1, random_state=42)\n",
    "\n",
    "# Print the training and testing data\n",
    "\n",
    "#print(\"Training Inputs (X_train):\\n\", X_train.head())\n",
    "#print(\"Testing Inputs (y_train):\\n\", y_train.head())\n",
    "\n",
    "#print(\"Training Outputs (X_test):\\n\", X_test)\n",
    "#print(\"Testing Outputs (y_test):\\n\", y_test)\n",
    "\n",
    "\n",
    "#print(\"Training Input Shape:\", X_train.shape)\n",
    "#print(\"Testing Input Shape:\",  y_train.shape)\n",
    "#print(\"Training Output Shape:\", X_test.shape)\n",
    "#print(\"Testing Output Shape:\", y_test.shape)\n",
    "\n",
    "print(\"Training Data Indices:\", X_train.index)\n",
    "print(\"Testing Data Indices:\", X_test.index)"
   ]
  },
  {
   "cell_type": "markdown",
   "metadata": {},
   "source": [
    "# 11 Create Polynomial Features (degree 2 or higher)"
   ]
  },
  {
   "cell_type": "code",
   "execution_count": 21,
   "metadata": {},
   "outputs": [
    {
     "data": {
      "text/plain": [
       "array([[1.000000e+00, 1.400000e+01, 1.600000e+01, 1.250000e+01,\n",
       "        7.350000e+01, 1.960000e+02, 2.240000e+02, 1.750000e+02,\n",
       "        1.029000e+03, 2.560000e+02, 2.000000e+02, 1.176000e+03,\n",
       "        1.562500e+02, 9.187500e+02, 5.402250e+03],\n",
       "       [1.000000e+00, 4.000000e+01, 1.800000e+01, 1.400000e+01,\n",
       "        1.005000e+02, 1.600000e+03, 7.200000e+02, 5.600000e+02,\n",
       "        4.020000e+03, 3.240000e+02, 2.520000e+02, 1.809000e+03,\n",
       "        1.960000e+02, 1.407000e+03, 1.010025e+04],\n",
       "       [1.000000e+00, 3.100000e+01, 1.700000e+01, 8.000000e+00,\n",
       "        6.000000e+01, 9.610000e+02, 5.270000e+02, 2.480000e+02,\n",
       "        1.860000e+03, 2.890000e+02, 1.360000e+02, 1.020000e+03,\n",
       "        6.400000e+01, 4.800000e+02, 3.600000e+03],\n",
       "       [1.000000e+00, 4.600000e+01, 1.600000e+01, 8.000000e+00,\n",
       "        8.250000e+01, 2.116000e+03, 7.360000e+02, 3.680000e+02,\n",
       "        3.795000e+03, 2.560000e+02, 1.280000e+02, 1.320000e+03,\n",
       "        6.400000e+01, 6.600000e+02, 6.806250e+03],\n",
       "       [1.000000e+00, 1.800000e+01, 1.600000e+01, 1.100000e+01,\n",
       "        9.150000e+01, 3.240000e+02, 2.880000e+02, 1.980000e+02,\n",
       "        1.647000e+03, 2.560000e+02, 1.760000e+02, 1.464000e+03,\n",
       "        1.210000e+02, 1.006500e+03, 8.372250e+03]])"
      ]
     },
     "execution_count": 21,
     "metadata": {},
     "output_type": "execute_result"
    }
   ],
   "source": [
    "poly = PolynomialFeatures(degree=2)  # You can try degree=3 or more\n",
    "\n",
    "X_train_poly = poly.fit_transform(X_train)\n",
    "#X_train_poly\n",
    "\n",
    "X_test_poly = poly.transform(X_test)\n",
    "X_test_poly"
   ]
  },
  {
   "cell_type": "markdown",
   "metadata": {},
   "source": [
    "# 12 Train the Polynomial Regression model"
   ]
  },
  {
   "cell_type": "code",
   "execution_count": 22,
   "metadata": {},
   "outputs": [
    {
     "data": {
      "text/plain": [
       "LinearRegression()"
      ]
     },
     "execution_count": 22,
     "metadata": {},
     "output_type": "execute_result"
    }
   ],
   "source": [
    "lrg = LinearRegression()\n",
    "lrg.fit(X_train_poly, y_train)"
   ]
  },
  {
   "cell_type": "markdown",
   "metadata": {},
   "source": [
    "# 13 Make predictions"
   ]
  },
  {
   "cell_type": "code",
   "execution_count": 23,
   "metadata": {},
   "outputs": [
    {
     "name": "stdout",
     "output_type": "stream",
     "text": [
      "[ 76.16566027 101.39178643  68.85926016  84.35024307  91.17504739]\n"
     ]
    }
   ],
   "source": [
    "y_pred = lrg.predict(X_test_poly)\n",
    "print(y_pred)"
   ]
  },
  {
   "cell_type": "markdown",
   "metadata": {},
   "source": [
    "# 14 Compersion side by side"
   ]
  },
  {
   "cell_type": "code",
   "execution_count": 24,
   "metadata": {},
   "outputs": [
    {
     "name": "stdout",
     "output_type": "stream",
     "text": [
      "13     80.5\n",
      "39    101.5\n",
      "30     65.0\n",
      "45     87.5\n",
      "17     94.5\n",
      "Name: Final_Grade, dtype: float64\n"
     ]
    }
   ],
   "source": [
    "print(y_test)"
   ]
  },
  {
   "cell_type": "markdown",
   "metadata": {},
   "source": [
    "# 15 Accuracy score"
   ]
  },
  {
   "cell_type": "code",
   "execution_count": 25,
   "metadata": {},
   "outputs": [
    {
     "name": "stdout",
     "output_type": "stream",
     "text": [
      "R-squared: 0.9304296529601587\n",
      "Mean Squared Error: 10.933675740781464\n",
      "Root Mean Squared Error: 3.3066109146347205\n"
     ]
    }
   ],
   "source": [
    "from sklearn.metrics import r2_score, mean_squared_error\n",
    "\n",
    "# R-squared\n",
    "r2 = r2_score(y_test, y_pred)\n",
    "print(\"R-squared:\", r2)\n",
    "\n",
    "# Mean Squared Error (MSE)\n",
    "mse = mean_squared_error(y_test, y_pred)\n",
    "print(\"Mean Squared Error:\", mse)\n",
    "\n",
    "# Root Mean Squared Error (RMSE)\n",
    "rmse = np.sqrt(mse)\n",
    "print(\"Root Mean Squared Error:\", rmse)"
   ]
  },
  {
   "cell_type": "markdown",
   "metadata": {},
   "source": [
    "# 16 Visualize the results (Training Data)"
   ]
  },
  {
   "cell_type": "code",
   "execution_count": 26,
   "metadata": {},
   "outputs": [
    {
     "data": {
      "image/png": "[encoded data removed]",
      "text/plain": [
       "<Figure size 400x200 with 1 Axes>"
      ]
     },
     "metadata": {},
     "output_type": "display_data"
    }
   ],
   "source": [
    "plt.figure(figsize=(4, 2))\n",
    "#plt.scatter(X_train, y_train, color='blue', label='Training Data') # This line caused the error due to shape mismatch\n",
    "plt.scatter(X_train['Study_Hours'], y_train, color='blue', label='Training Data')  # Use a single feature 'Study_Hours' for x-axis\n",
    "plt.plot(X_train['Study_Hours'], lrg.predict(X_train_poly), color='red', label='Polynomial Fit') # plot against the same feature for consistency\n",
    "plt.title(\"Polynomial Regression (Training Data)\")\n",
    "plt.xlabel(\"Study Hours\")\n",
    "plt.ylabel(\"Final Grade\")\n",
    "plt.legend()\n",
    "plt.grid(True)\n",
    "plt.show()"
   ]
  },
  {
   "cell_type": "markdown",
   "metadata": {},
   "source": [
    " # 17 Visualize the results (Test Data)"
   ]
  },
  {
   "cell_type": "code",
   "execution_count": 27,
   "metadata": {},
   "outputs": [
    {
     "data": {
      "image/png": "[encoded data removed]",
      "text/plain": [
       "<Figure size 400x200 with 1 Axes>"
      ]
     },
     "metadata": {},
     "output_type": "display_data"
    }
   ],
   "source": [
    "plt.figure(figsize=(4, 2))\n",
    "# Select a single feature for the x-axis, e.g., 'Study_Hours'\n",
    "plt.scatter(X_test['Study_Hours'], y_test, color='green', label='Test Data')\n",
    "plt.plot(sorted(X_test['Study_Hours']),\n",
    "         sorted(lrg.predict(X_test_poly)),\n",
    "         color='red', label='Polynomial Fit')\n",
    "plt.title(\"Polynomial Regression (Test Data)\")\n",
    "plt.xlabel(\"Study Hours\")\n",
    "plt.ylabel(\"Final Grade\")\n",
    "plt.legend()\n",
    "plt.show()"
   ]
  }
 ],
 "metadata": {
  "kernelspec": {
   "display_name": "Python 3.7.7 64-bit",
   "language": "python",
   "name": "python3"
  },
  "language_info": {
   "codemirror_mode": {
    "name": "ipython",
    "version": 3
   },
   "file_extension": ".py",
   "mimetype": "text/x-python",
   "name": "python",
   "nbconvert_exporter": "python",
   "pygments_lexer": "ipython3",
   "version": "3.7.7"
  },
  "orig_nbformat": 4,
  "vscode": {
   "interpreter": {
    "hash": "6d6c50ab20b3497d0cf2c30a0b0d7fdc8540af7736d6a4e3e8d450bf51746730"
   }
  }
 },
 "nbformat": 4,
 "nbformat_minor": 2
}
